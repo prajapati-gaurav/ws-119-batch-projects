{
 "cells": [
  {
   "cell_type": "markdown",
   "id": "f8d12956",
   "metadata": {},
   "source": [
    "# rock, paper, scessior game"
   ]
  },
  {
   "cell_type": "code",
   "execution_count": 5,
   "id": "ad5ee7fc",
   "metadata": {},
   "outputs": [
    {
     "name": "stdout",
     "output_type": "stream",
     "text": [
      "    WELCOME IN GAMING WORLD\n",
      "******************************\n",
      "choose a number to.....\n",
      "Enter 1 for rock\n",
      "Enter 2 for paper\n",
      "Enter 3 for scessior\n",
      "\n",
      "Enter your number of your choice...2\n",
      "\n",
      "You chouse         :: paper::\n",
      "And computer chose :: rock ::\n",
      "you win\n"
     ]
    }
   ],
   "source": [
    "print(\"    WELCOME IN GAMING WORLD\")\n",
    "print(\"*\"*30)\n",
    "\n",
    "print(\"choose a number to.....\")\n",
    "print('''Enter 1 for rock\n",
    "Enter 2 for paper\n",
    "Enter 3 for scessior''')\n",
    "print(\"\")\n",
    "      \n",
    "      \n",
    "uc=int(input(\"Enter your number of your choice...\"))\n",
    "print()\n",
    "import random      \n",
    "l=[\"rock\",\"paper\",\"scessior\"]\n",
    "\n",
    "cc=random.choice(l)\n",
    "\n",
    "if uc==1:\n",
    "    print(\"You chose         :: rock::\")\n",
    "elif uc==2:\n",
    "    print(\"You chose         :: paper::\")\n",
    "elif uc==3:\n",
    "    print(\"You chose         :: scessior::\")\n",
    "\n",
    "print(\"And computer chose\",\"::\",cc,\"::\")\n",
    "\n",
    "if uc==1 and cc==\"rock\":\n",
    "    print(\"draw\")\n",
    "elif uc==1 and cc==\"paper\":\n",
    "    print(\"you win\")\n",
    "elif uc==1 and cc==\"scessior\":\n",
    "    print(\"you lose\")\n",
    "    \n",
    "elif uc==2 and cc==\"rock\":\n",
    "    print(\"you win\")\n",
    "elif uc==2 and cc==\"paper\":\n",
    "    print(\"draw\")\n",
    "elif uc==2 and cc==\"scessior\":\n",
    "    print(\"you lose\")\n",
    "    \n",
    "elif uc==3 and cc==\"rock\":\n",
    "    print(\"you lose\")\n",
    "elif uc==3 and cc==\"paper\":\n",
    "    print(\"you win\")\n",
    "elif uc==3 and cc==\"scessior\":\n",
    "    print(\"draw\")\n"
   ]
  },
  {
   "cell_type": "markdown",
   "id": "8790b334",
   "metadata": {},
   "source": [
    "# second game"
   ]
  },
  {
   "cell_type": "code",
   "execution_count": 1,
   "id": "d3484afd",
   "metadata": {},
   "outputs": [
    {
     "name": "stdout",
     "output_type": "stream",
     "text": [
      "      WELCOME IN GAMING WORLD\n",
      "****************************************\n",
      "Warring - This Game is only for 18+\n",
      "\n",
      "Game rules and regulations are....\n",
      "\n",
      "1. you need to put some money\n",
      "2. And you need to chose any three number between 0 to 9 \n",
      "3. If palying machine gentrate any two same number which you entered\n",
      "4. Then you will get 10 times of your money\n",
      "5. Other wise you will lose your money.\n",
      "\n",
      "Enter the money you want to play with = 50\n",
      "\n",
      "Enter three numbers between (0-9)\n",
      "enter first number  -4\n",
      "enter second number -8\n",
      "enter third number  -7\n",
      "\n",
      "\n",
      "Machine generated numbers are...\n",
      "Machine first number  - 2\n",
      "Machine second number - 1\n",
      "Machine third number  - 9\n",
      "\n",
      "O.. no you lose your money.\n"
     ]
    }
   ],
   "source": [
    "print(\"      WELCOME IN GAMING WORLD\")\n",
    "print(\"*\"*40)\n",
    "print(\"Warring - This Game is only for 18+\")\n",
    "print(\"\")\n",
    "\n",
    "print(\"Game rules and regulations are....\")\n",
    "print(\"\")\n",
    "print(\"\"\"1. you need to put some money\n",
    "2. And you need to chose any three number between 0 to 9 \n",
    "3. If palying machine gentrate any two same number which you entered\n",
    "4. Then you will get 10 times of your money\n",
    "5. Other wise you will lose your money.\"\"\")\n",
    "print(\"\")\n",
    "\n",
    "m=int(input(\"Enter the money you want to play with = \"))\n",
    "print(\"\")\n",
    "\n",
    "print(\"Enter three numbers between (0-9)\")\n",
    "a=int(input(\"enter first number  -\"))\n",
    "b=int(input(\"enter second number -\"))\n",
    "c=int(input(\"enter third number  -\"))\n",
    "\n",
    "\n",
    "import random\n",
    "l=[0,1,2,3,4,5,6,7,8,9]\n",
    "print(\"\")\n",
    "A=random.choice(l)\n",
    "B=random.choice(l)\n",
    "C=random.choice(l)\n",
    "print(\"\")\n",
    "\n",
    "print(\"Machine generated numbers are...\")\n",
    "print(\"Machine first number  -\",A)\n",
    "print(\"Machine second number -\",B)\n",
    "print(\"Machine third number  -\",C)\n",
    "\n",
    "if (a==A or a==B or a==C) or (b==A or b==B or b==C) or (c==A or c==B or c==C):\n",
    "    print(\"\")\n",
    "    print(\"Two numbers are matched.\")\n",
    "    print(\"\")\n",
    "    print(\"Congratulations you won.... \")\n",
    "    print('')\n",
    "    print(\"get 10x of your investing money = \",m*10,\"Rs.\")\n",
    "else:\n",
    "    print(\"\")\n",
    "    print(\"O.. no you lose your money.\")\n",
    "\n"
   ]
  },
  {
   "cell_type": "code",
   "execution_count": null,
   "id": "54eb4edb",
   "metadata": {},
   "outputs": [],
   "source": []
  },
  {
   "cell_type": "code",
   "execution_count": null,
   "id": "dd9540f6",
   "metadata": {},
   "outputs": [],
   "source": []
  }
 ],
 "metadata": {
  "kernelspec": {
   "display_name": "Python 3 (ipykernel)",
   "language": "python",
   "name": "python3"
  },
  "language_info": {
   "codemirror_mode": {
    "name": "ipython",
    "version": 3
   },
   "file_extension": ".py",
   "mimetype": "text/x-python",
   "name": "python",
   "nbconvert_exporter": "python",
   "pygments_lexer": "ipython3",
   "version": "3.9.13"
  }
 },
 "nbformat": 4,
 "nbformat_minor": 5
}
