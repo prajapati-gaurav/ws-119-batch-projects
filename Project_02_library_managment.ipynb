{
 "cells": [
  {
   "cell_type": "code",
   "execution_count": null,
   "id": "9aee68f9",
   "metadata": {},
   "outputs": [],
   "source": [
    "Library Management System\n",
    "\n",
    "Username Password\n",
    "total books (math - 0)\n",
    "add book\n",
    "\n",
    "borrowed books (ayushi - math)\n",
    "\n",
    "returned books (ayushi - math)\n"
   ]
  },
  {
   "cell_type": "code",
   "execution_count": 1,
   "id": "5d48675c",
   "metadata": {},
   "outputs": [
    {
     "name": "stdout",
     "output_type": "stream",
     "text": [
      "Welcome to Public Library\n",
      "Press 1 for register....\n",
      "Enter required digit to login - 1\n",
      "Type a User name -gaurav\n",
      "gaurav\n",
      "Create password -kumar\n",
      "kumar\n",
      "\n",
      "\n",
      "Now you are ready to login....\n",
      "\n",
      "Enter User name -gaurav\n",
      "gaurav\n",
      "Enter your password -kumarrr\n",
      "kumarrr\n",
      "\n",
      "WELCOME\n"
     ]
    }
   ],
   "source": [
    "print(\"Welcome to Public Library\")\n",
    "print(\"Press 1 for register....\")\n",
    "a=int(input(\"Enter required digit to login - \"))\n",
    "if a==1:\n",
    "    U=print(input(\"Type a User name -\"))\n",
    "    P=print(input(\"Create password -\"))\n",
    "    print(\"\")\n",
    "    print(\"\")\n",
    "    print(\"Now you are ready to login....\")\n",
    "    print(\"\")\n",
    "else:\n",
    "    print(\"\")\n",
    "    print(\"\")\n",
    "    print(\"Wrong input.First you need to create User name or password.... \")\n",
    "    \n",
    "U2=print(input(\"Enter User name -\"))\n",
    "P2=print(input(\"Enter your password -\"))\n",
    "if U==U2 and P==P2:\n",
    "    print(\"\")\n",
    "    print(\"WELCOME\")\n",
    "    \n",
    "else:\n",
    "    print('''you entered wrong user name or password...\n",
    "             please enter right user name or password to login ...''')\n",
    "    \n"
   ]
  },
  {
   "cell_type": "code",
   "execution_count": null,
   "id": "447c96e0",
   "metadata": {},
   "outputs": [],
   "source": []
  },
  {
   "cell_type": "code",
   "execution_count": null,
   "id": "1d05a43f",
   "metadata": {},
   "outputs": [],
   "source": []
  },
  {
   "cell_type": "code",
   "execution_count": null,
   "id": "f3e1ca3b",
   "metadata": {},
   "outputs": [],
   "source": []
  }
 ],
 "metadata": {
  "kernelspec": {
   "display_name": "Python 3 (ipykernel)",
   "language": "python",
   "name": "python3"
  },
  "language_info": {
   "codemirror_mode": {
    "name": "ipython",
    "version": 3
   },
   "file_extension": ".py",
   "mimetype": "text/x-python",
   "name": "python",
   "nbconvert_exporter": "python",
   "pygments_lexer": "ipython3",
   "version": "3.9.13"
  }
 },
 "nbformat": 4,
 "nbformat_minor": 5
}
