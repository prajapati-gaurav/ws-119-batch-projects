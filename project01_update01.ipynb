{
 "cells": [
  {
   "cell_type": "code",
   "execution_count": 1,
   "id": "068fc451",
   "metadata": {},
   "outputs": [
    {
     "name": "stdout",
     "output_type": "stream",
     "text": [
      "           Welcome to P.V.R\n",
      "****************************************\n",
      "----------------------------------------\n",
      "Seat prices.....\n",
      "For recliner Seat = 380/person\n",
      "For normal Seat   = 250/person\n",
      "----------------------------------------\n",
      "Seats available befor booking.....\n",
      "recliner seats = 130\n",
      "normal seats= 20\n",
      "----------------------------------------\n",
      "         TAX INVOICE\n",
      "Recline seats = 4\n",
      "normal seats  = 2\n",
      "Recliner seats =  4 X 380 =  1520\n",
      "Normal seats   =  2 X 250 =  500\n",
      "----------------------------------------\n",
      "               Total Bill = 2020\n",
      "\n",
      "all types fo taxes are included....\n",
      "\n",
      "Do you want to book more seats ? yes/no = yes\n",
      "\n",
      "----------------------------------------\n",
      "now Seats available befor booking.....\n",
      "recliner seats = 126\n",
      "normal seats= 18\n",
      "----------------------------------------\n",
      "         TAX INVOICE\n",
      "Recline seats = 2\n",
      "normal seats  = 4\n",
      "Recliner seats =  2 X 380 =  760\n",
      "Normal seats   =  4 X 250 =  1000\n",
      "----------------------------------------\n",
      "               Total Bill = 1760\n",
      "\n",
      "all types fo taxes are included....\n",
      "\n",
      "Do you want to book more seats ? yes/no = no\n",
      "\n",
      "OK> have a nice day. thankyou\n",
      "\n",
      "---------please split bill from here -----------\n"
     ]
    }
   ],
   "source": [
    "print(\"           Welcome to P.V.R\")\n",
    "print(\"*\"*40)\n",
    "print(\"-\"*40)\n",
    "print(\"Seat prices.....\")\n",
    "print(\"For recliner Seat = 380/person\")\n",
    "print(\"For normal Seat   = 250/person\")\n",
    "print(\"-\"*40)\n",
    "print(\"Seats available befor booking.....\")\n",
    "r=130\n",
    "n=20\n",
    "print(\"recliner seats =\",r)\n",
    "print(\"normal seats=\",n)\n",
    "print(\"-\"*40)\n",
    "\n",
    "while True:\n",
    "    print(\"         TAX INVOICE\")\n",
    "    a=int(input(\"Recline seats = \"))\n",
    "    b=int(input(\"normal seats  = \"))\n",
    "    print(\"Recliner seats = \",a,\"X 380 =\",\"\",a*380)\n",
    "    print(\"Normal seats   = \",b,\"X 250 =\",\"\",b*250)\n",
    "    print(\"-\"*40)\n",
    "    print(\"               Total Bill =\", a*380+b*250)\n",
    "    print(\"\")\n",
    "    print(\"all types fo taxes are included....\")\n",
    "    print(\"\")\n",
    "\n",
    "    t=input(\"Do you want to book more seats ? yes/no = \")\n",
    "    if t==\"no\" or t==\"No\" or t==\"NO\":\n",
    "        print(\"\")\n",
    "        print(\"OK> have a nice day. thankyou\")\n",
    "        print(\"\")\n",
    "        print(\"---------please split bill from here -----------\")\n",
    "        break\n",
    "\n",
    "    if t==\"yes\" or t==\"YES\" or t==\"Yes\":\n",
    "        print(\"\")\n",
    "        print(\"-\"*40)\n",
    "        print(\"now Seats available befor booking.....\")\n",
    "        print(\"recliner seats =\",r-a)\n",
    "        print(\"normal seats=\",n-b)\n",
    "        print(\"-\"*40)\n",
    "        \n",
    "        continue\n",
    "        "
   ]
  },
  {
   "cell_type": "code",
   "execution_count": null,
   "id": "ae4d0609",
   "metadata": {},
   "outputs": [],
   "source": []
  },
  {
   "cell_type": "code",
   "execution_count": null,
   "id": "729d198d",
   "metadata": {},
   "outputs": [],
   "source": [
    "\n"
   ]
  },
  {
   "cell_type": "code",
   "execution_count": null,
   "id": "0b79c220",
   "metadata": {},
   "outputs": [],
   "source": []
  },
  {
   "cell_type": "code",
   "execution_count": null,
   "id": "1623e252",
   "metadata": {},
   "outputs": [],
   "source": []
  },
  {
   "cell_type": "code",
   "execution_count": null,
   "id": "f9c70e0c",
   "metadata": {},
   "outputs": [],
   "source": []
  }
 ],
 "metadata": {
  "kernelspec": {
   "display_name": "Python 3 (ipykernel)",
   "language": "python",
   "name": "python3"
  },
  "language_info": {
   "codemirror_mode": {
    "name": "ipython",
    "version": 3
   },
   "file_extension": ".py",
   "mimetype": "text/x-python",
   "name": "python",
   "nbconvert_exporter": "python",
   "pygments_lexer": "ipython3",
   "version": "3.9.13"
  }
 },
 "nbformat": 4,
 "nbformat_minor": 5
}
